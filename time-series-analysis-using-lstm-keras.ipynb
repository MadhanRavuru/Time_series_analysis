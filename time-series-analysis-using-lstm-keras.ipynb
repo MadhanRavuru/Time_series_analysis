{
 "cells": [
  {
   "cell_type": "markdown",
   "metadata": {
    "_uuid": "3d7c6a3bd655da50b56413fc3e2e10c2531ef842"
   },
   "source": [
    "# New York Stock Exchange Data\n",
    "\n",
    "## Time series analysis \n",
    "\n",
    "### Here, we try to predict the 'close' prices of Apple stocks using traditional ARIMA and LSTM models"
   ]
  },
  {
   "cell_type": "code",
   "execution_count": 1,
   "metadata": {
    "_cell_guid": "b1076dfc-b9ad-4769-8c92-a6c4dae69d19",
    "_uuid": "8f2839f25d086af736a60e9eeb907d3b93b6e0e5"
   },
   "outputs": [],
   "source": [
    "import numpy as np\n",
    "import pandas as pd \n",
    "import matplotlib.pyplot as plt\n",
    "%matplotlib inline\n",
    "import datetime\n",
    "import math, time\n",
    "import itertools\n",
    "import datetime\n",
    "\n",
    "from sklearn.preprocessing import MinMaxScaler\n",
    "from sklearn.metrics import mean_squared_error\n",
    "from math import sqrt\n",
    "from keras.models import Sequential\n",
    "from keras.layers import LSTM, Dense"
   ]
  },
  {
   "cell_type": "code",
   "execution_count": 2,
   "metadata": {
    "_cell_guid": "79c7e3d0-c299-4dcb-8224-4455121ee9b0",
    "_uuid": "d629ff2d2480ee46fbb7e2d37f6b5fab8052498a"
   },
   "outputs": [
    {
     "data": {
      "text/html": [
       "<div>\n",
       "<style scoped>\n",
       "    .dataframe tbody tr th:only-of-type {\n",
       "        vertical-align: middle;\n",
       "    }\n",
       "\n",
       "    .dataframe tbody tr th {\n",
       "        vertical-align: top;\n",
       "    }\n",
       "\n",
       "    .dataframe thead th {\n",
       "        text-align: right;\n",
       "    }\n",
       "</style>\n",
       "<table border=\"1\" class=\"dataframe\">\n",
       "  <thead>\n",
       "    <tr style=\"text-align: right;\">\n",
       "      <th></th>\n",
       "      <th>symbol</th>\n",
       "      <th>open</th>\n",
       "      <th>close</th>\n",
       "      <th>low</th>\n",
       "      <th>high</th>\n",
       "      <th>volume</th>\n",
       "    </tr>\n",
       "    <tr>\n",
       "      <th>date</th>\n",
       "      <th></th>\n",
       "      <th></th>\n",
       "      <th></th>\n",
       "      <th></th>\n",
       "      <th></th>\n",
       "      <th></th>\n",
       "    </tr>\n",
       "  </thead>\n",
       "  <tbody>\n",
       "    <tr>\n",
       "      <th>2016-01-05</th>\n",
       "      <td>WLTW</td>\n",
       "      <td>123.430000</td>\n",
       "      <td>125.839996</td>\n",
       "      <td>122.309998</td>\n",
       "      <td>126.250000</td>\n",
       "      <td>2163600.0</td>\n",
       "    </tr>\n",
       "    <tr>\n",
       "      <th>2016-01-06</th>\n",
       "      <td>WLTW</td>\n",
       "      <td>125.239998</td>\n",
       "      <td>119.980003</td>\n",
       "      <td>119.940002</td>\n",
       "      <td>125.540001</td>\n",
       "      <td>2386400.0</td>\n",
       "    </tr>\n",
       "    <tr>\n",
       "      <th>2016-01-07</th>\n",
       "      <td>WLTW</td>\n",
       "      <td>116.379997</td>\n",
       "      <td>114.949997</td>\n",
       "      <td>114.930000</td>\n",
       "      <td>119.739998</td>\n",
       "      <td>2489500.0</td>\n",
       "    </tr>\n",
       "    <tr>\n",
       "      <th>2016-01-08</th>\n",
       "      <td>WLTW</td>\n",
       "      <td>115.480003</td>\n",
       "      <td>116.620003</td>\n",
       "      <td>113.500000</td>\n",
       "      <td>117.440002</td>\n",
       "      <td>2006300.0</td>\n",
       "    </tr>\n",
       "    <tr>\n",
       "      <th>2016-01-11</th>\n",
       "      <td>WLTW</td>\n",
       "      <td>117.010002</td>\n",
       "      <td>114.970001</td>\n",
       "      <td>114.089996</td>\n",
       "      <td>117.330002</td>\n",
       "      <td>1408600.0</td>\n",
       "    </tr>\n",
       "  </tbody>\n",
       "</table>\n",
       "</div>"
      ],
      "text/plain": [
       "           symbol        open       close         low        high     volume\n",
       "date                                                                        \n",
       "2016-01-05   WLTW  123.430000  125.839996  122.309998  126.250000  2163600.0\n",
       "2016-01-06   WLTW  125.239998  119.980003  119.940002  125.540001  2386400.0\n",
       "2016-01-07   WLTW  116.379997  114.949997  114.930000  119.739998  2489500.0\n",
       "2016-01-08   WLTW  115.480003  116.620003  113.500000  117.440002  2006300.0\n",
       "2016-01-11   WLTW  117.010002  114.970001  114.089996  117.330002  1408600.0"
      ]
     },
     "execution_count": 2,
     "metadata": {},
     "output_type": "execute_result"
    }
   ],
   "source": [
    "data_df =  pd.read_csv(\"stock_prices.csv\", index_col = 0)\n",
    "data_df.head()"
   ]
  },
  {
   "cell_type": "markdown",
   "metadata": {
    "_uuid": "3c11e040c3ab738df846f38eb27d64537c497a1b"
   },
   "source": [
    "## Only Apple stocks (AAPL) are extracted"
   ]
  },
  {
   "cell_type": "code",
   "execution_count": 3,
   "metadata": {
    "_uuid": "30a9e8f016f0fff16e5cc1223a3e916176077120"
   },
   "outputs": [
    {
     "data": {
      "text/html": [
       "<div>\n",
       "<style scoped>\n",
       "    .dataframe tbody tr th:only-of-type {\n",
       "        vertical-align: middle;\n",
       "    }\n",
       "\n",
       "    .dataframe tbody tr th {\n",
       "        vertical-align: top;\n",
       "    }\n",
       "\n",
       "    .dataframe thead th {\n",
       "        text-align: right;\n",
       "    }\n",
       "</style>\n",
       "<table border=\"1\" class=\"dataframe\">\n",
       "  <thead>\n",
       "    <tr style=\"text-align: right;\">\n",
       "      <th></th>\n",
       "      <th>open</th>\n",
       "      <th>close</th>\n",
       "      <th>low</th>\n",
       "      <th>high</th>\n",
       "      <th>volume</th>\n",
       "    </tr>\n",
       "    <tr>\n",
       "      <th>date</th>\n",
       "      <th></th>\n",
       "      <th></th>\n",
       "      <th></th>\n",
       "      <th></th>\n",
       "      <th></th>\n",
       "    </tr>\n",
       "  </thead>\n",
       "  <tbody>\n",
       "    <tr>\n",
       "      <th>2010-01-04</th>\n",
       "      <td>30.490000</td>\n",
       "      <td>30.572857</td>\n",
       "      <td>30.340000</td>\n",
       "      <td>30.642857</td>\n",
       "      <td>123432400.0</td>\n",
       "    </tr>\n",
       "    <tr>\n",
       "      <th>2010-01-05</th>\n",
       "      <td>30.657143</td>\n",
       "      <td>30.625713</td>\n",
       "      <td>30.464285</td>\n",
       "      <td>30.798571</td>\n",
       "      <td>150476200.0</td>\n",
       "    </tr>\n",
       "    <tr>\n",
       "      <th>2010-01-06</th>\n",
       "      <td>30.625713</td>\n",
       "      <td>30.138571</td>\n",
       "      <td>30.107143</td>\n",
       "      <td>30.747143</td>\n",
       "      <td>138040000.0</td>\n",
       "    </tr>\n",
       "    <tr>\n",
       "      <th>2010-01-07</th>\n",
       "      <td>30.250000</td>\n",
       "      <td>30.082857</td>\n",
       "      <td>29.864286</td>\n",
       "      <td>30.285715</td>\n",
       "      <td>119282800.0</td>\n",
       "    </tr>\n",
       "    <tr>\n",
       "      <th>2010-01-08</th>\n",
       "      <td>30.042856</td>\n",
       "      <td>30.282858</td>\n",
       "      <td>29.865715</td>\n",
       "      <td>30.285715</td>\n",
       "      <td>111902700.0</td>\n",
       "    </tr>\n",
       "  </tbody>\n",
       "</table>\n",
       "</div>"
      ],
      "text/plain": [
       "                 open      close        low       high       volume\n",
       "date                                                               \n",
       "2010-01-04  30.490000  30.572857  30.340000  30.642857  123432400.0\n",
       "2010-01-05  30.657143  30.625713  30.464285  30.798571  150476200.0\n",
       "2010-01-06  30.625713  30.138571  30.107143  30.747143  138040000.0\n",
       "2010-01-07  30.250000  30.082857  29.864286  30.285715  119282800.0\n",
       "2010-01-08  30.042856  30.282858  29.865715  30.285715  111902700.0"
      ]
     },
     "execution_count": 3,
     "metadata": {},
     "output_type": "execute_result"
    }
   ],
   "source": [
    "data_df = data_df[data_df.symbol == 'AAPL']\n",
    "data_df.drop(['symbol'],1,inplace=True)\n",
    "data_df.head()"
   ]
  },
  {
   "cell_type": "code",
   "execution_count": 4,
   "metadata": {
    "_uuid": "5c0fd9cca138d6a2f2e685250e40bce62024533e"
   },
   "outputs": [
    {
     "data": {
      "text/plain": [
       "(1762, 5)"
      ]
     },
     "execution_count": 4,
     "metadata": {},
     "output_type": "execute_result"
    }
   ],
   "source": [
    "data_df.shape"
   ]
  },
  {
   "cell_type": "code",
   "execution_count": 5,
   "metadata": {
    "_uuid": "07c12f402fb3665e301b261047370ec649051fad"
   },
   "outputs": [
    {
     "data": {
      "text/html": [
       "<div>\n",
       "<style scoped>\n",
       "    .dataframe tbody tr th:only-of-type {\n",
       "        vertical-align: middle;\n",
       "    }\n",
       "\n",
       "    .dataframe tbody tr th {\n",
       "        vertical-align: top;\n",
       "    }\n",
       "\n",
       "    .dataframe thead th {\n",
       "        text-align: right;\n",
       "    }\n",
       "</style>\n",
       "<table border=\"1\" class=\"dataframe\">\n",
       "  <thead>\n",
       "    <tr style=\"text-align: right;\">\n",
       "      <th></th>\n",
       "      <th>open</th>\n",
       "      <th>close</th>\n",
       "      <th>low</th>\n",
       "      <th>high</th>\n",
       "      <th>volume</th>\n",
       "    </tr>\n",
       "    <tr>\n",
       "      <th>date</th>\n",
       "      <th></th>\n",
       "      <th></th>\n",
       "      <th></th>\n",
       "      <th></th>\n",
       "      <th></th>\n",
       "    </tr>\n",
       "  </thead>\n",
       "  <tbody>\n",
       "    <tr>\n",
       "      <th>2016-12-23</th>\n",
       "      <td>115.589996</td>\n",
       "      <td>116.519997</td>\n",
       "      <td>115.589996</td>\n",
       "      <td>116.519997</td>\n",
       "      <td>14249500.0</td>\n",
       "    </tr>\n",
       "    <tr>\n",
       "      <th>2016-12-27</th>\n",
       "      <td>116.519997</td>\n",
       "      <td>117.260002</td>\n",
       "      <td>116.489998</td>\n",
       "      <td>117.800003</td>\n",
       "      <td>18296900.0</td>\n",
       "    </tr>\n",
       "    <tr>\n",
       "      <th>2016-12-28</th>\n",
       "      <td>117.519997</td>\n",
       "      <td>116.760002</td>\n",
       "      <td>116.199997</td>\n",
       "      <td>118.019997</td>\n",
       "      <td>20905900.0</td>\n",
       "    </tr>\n",
       "    <tr>\n",
       "      <th>2016-12-29</th>\n",
       "      <td>116.449997</td>\n",
       "      <td>116.730003</td>\n",
       "      <td>116.400002</td>\n",
       "      <td>117.110001</td>\n",
       "      <td>15039500.0</td>\n",
       "    </tr>\n",
       "    <tr>\n",
       "      <th>2016-12-30</th>\n",
       "      <td>116.650002</td>\n",
       "      <td>115.820000</td>\n",
       "      <td>115.430000</td>\n",
       "      <td>117.199997</td>\n",
       "      <td>30586300.0</td>\n",
       "    </tr>\n",
       "  </tbody>\n",
       "</table>\n",
       "</div>"
      ],
      "text/plain": [
       "                  open       close         low        high      volume\n",
       "date                                                                  \n",
       "2016-12-23  115.589996  116.519997  115.589996  116.519997  14249500.0\n",
       "2016-12-27  116.519997  117.260002  116.489998  117.800003  18296900.0\n",
       "2016-12-28  117.519997  116.760002  116.199997  118.019997  20905900.0\n",
       "2016-12-29  116.449997  116.730003  116.400002  117.110001  15039500.0\n",
       "2016-12-30  116.650002  115.820000  115.430000  117.199997  30586300.0"
      ]
     },
     "execution_count": 5,
     "metadata": {},
     "output_type": "execute_result"
    }
   ],
   "source": [
    "data_df.tail()"
   ]
  },
  {
   "cell_type": "markdown",
   "metadata": {},
   "source": [
    "## Visualization of Close prices of Apple Stocks"
   ]
  },
  {
   "cell_type": "code",
   "execution_count": 6,
   "metadata": {
    "_uuid": "f33002b25a435462d40a85f23e633928512317fc"
   },
   "outputs": [
    {
     "data": {
      "image/png": "[encoded data removed]",
      "text/plain": [
       "<Figure size 432x288 with 1 Axes>"
      ]
     },
     "metadata": {
      "needs_background": "light"
     },
     "output_type": "display_data"
    }
   ],
   "source": [
    "plt.plot(data_df['close'])\n",
    "plt.show()"
   ]
  },
  {
   "cell_type": "code",
   "execution_count": 7,
   "metadata": {
    "_uuid": "04398b0df33164535ffda6dd7ccb1a84fa13bee8"
   },
   "outputs": [
    {
     "data": {
      "text/html": [
       "<div>\n",
       "<style scoped>\n",
       "    .dataframe tbody tr th:only-of-type {\n",
       "        vertical-align: middle;\n",
       "    }\n",
       "\n",
       "    .dataframe tbody tr th {\n",
       "        vertical-align: top;\n",
       "    }\n",
       "\n",
       "    .dataframe thead th {\n",
       "        text-align: right;\n",
       "    }\n",
       "</style>\n",
       "<table border=\"1\" class=\"dataframe\">\n",
       "  <thead>\n",
       "    <tr style=\"text-align: right;\">\n",
       "      <th></th>\n",
       "      <th>open</th>\n",
       "      <th>close</th>\n",
       "      <th>low</th>\n",
       "      <th>high</th>\n",
       "      <th>volume</th>\n",
       "      <th>date</th>\n",
       "    </tr>\n",
       "    <tr>\n",
       "      <th>date</th>\n",
       "      <th></th>\n",
       "      <th></th>\n",
       "      <th></th>\n",
       "      <th></th>\n",
       "      <th></th>\n",
       "      <th></th>\n",
       "    </tr>\n",
       "  </thead>\n",
       "  <tbody>\n",
       "    <tr>\n",
       "      <th>2010-01-04</th>\n",
       "      <td>30.490000</td>\n",
       "      <td>30.572857</td>\n",
       "      <td>30.340000</td>\n",
       "      <td>30.642857</td>\n",
       "      <td>123432400.0</td>\n",
       "      <td>2010-01-04</td>\n",
       "    </tr>\n",
       "    <tr>\n",
       "      <th>2010-01-05</th>\n",
       "      <td>30.657143</td>\n",
       "      <td>30.625713</td>\n",
       "      <td>30.464285</td>\n",
       "      <td>30.798571</td>\n",
       "      <td>150476200.0</td>\n",
       "      <td>2010-01-05</td>\n",
       "    </tr>\n",
       "    <tr>\n",
       "      <th>2010-01-06</th>\n",
       "      <td>30.625713</td>\n",
       "      <td>30.138571</td>\n",
       "      <td>30.107143</td>\n",
       "      <td>30.747143</td>\n",
       "      <td>138040000.0</td>\n",
       "      <td>2010-01-06</td>\n",
       "    </tr>\n",
       "    <tr>\n",
       "      <th>2010-01-07</th>\n",
       "      <td>30.250000</td>\n",
       "      <td>30.082857</td>\n",
       "      <td>29.864286</td>\n",
       "      <td>30.285715</td>\n",
       "      <td>119282800.0</td>\n",
       "      <td>2010-01-07</td>\n",
       "    </tr>\n",
       "    <tr>\n",
       "      <th>2010-01-08</th>\n",
       "      <td>30.042856</td>\n",
       "      <td>30.282858</td>\n",
       "      <td>29.865715</td>\n",
       "      <td>30.285715</td>\n",
       "      <td>111902700.0</td>\n",
       "      <td>2010-01-08</td>\n",
       "    </tr>\n",
       "  </tbody>\n",
       "</table>\n",
       "</div>"
      ],
      "text/plain": [
       "                 open      close        low       high       volume  \\\n",
       "date                                                                  \n",
       "2010-01-04  30.490000  30.572857  30.340000  30.642857  123432400.0   \n",
       "2010-01-05  30.657143  30.625713  30.464285  30.798571  150476200.0   \n",
       "2010-01-06  30.625713  30.138571  30.107143  30.747143  138040000.0   \n",
       "2010-01-07  30.250000  30.082857  29.864286  30.285715  119282800.0   \n",
       "2010-01-08  30.042856  30.282858  29.865715  30.285715  111902700.0   \n",
       "\n",
       "                  date  \n",
       "date                    \n",
       "2010-01-04  2010-01-04  \n",
       "2010-01-05  2010-01-05  \n",
       "2010-01-06  2010-01-06  \n",
       "2010-01-07  2010-01-07  \n",
       "2010-01-08  2010-01-08  "
      ]
     },
     "execution_count": 7,
     "metadata": {},
     "output_type": "execute_result"
    }
   ],
   "source": [
    "data_df['date'] = data_df.index\n",
    "data_df.head()"
   ]
  },
  {
   "cell_type": "code",
   "execution_count": 8,
   "metadata": {
    "_uuid": "2733fda3dce158e296264da65e2d8ca34fffbf55"
   },
   "outputs": [],
   "source": [
    "data_df['date'] = pd.to_datetime(data_df['date'])"
   ]
  },
  {
   "cell_type": "code",
   "execution_count": 9,
   "metadata": {
    "_uuid": "0d470c8e6fa660b3b8dad878a8d4a0c04bfa9f71"
   },
   "outputs": [
    {
     "data": {
      "text/html": [
       "<div>\n",
       "<style scoped>\n",
       "    .dataframe tbody tr th:only-of-type {\n",
       "        vertical-align: middle;\n",
       "    }\n",
       "\n",
       "    .dataframe tbody tr th {\n",
       "        vertical-align: top;\n",
       "    }\n",
       "\n",
       "    .dataframe thead th {\n",
       "        text-align: right;\n",
       "    }\n",
       "</style>\n",
       "<table border=\"1\" class=\"dataframe\">\n",
       "  <thead>\n",
       "    <tr style=\"text-align: right;\">\n",
       "      <th></th>\n",
       "      <th>open</th>\n",
       "      <th>close</th>\n",
       "      <th>low</th>\n",
       "      <th>high</th>\n",
       "      <th>volume</th>\n",
       "      <th>date</th>\n",
       "    </tr>\n",
       "    <tr>\n",
       "      <th>date</th>\n",
       "      <th></th>\n",
       "      <th></th>\n",
       "      <th></th>\n",
       "      <th></th>\n",
       "      <th></th>\n",
       "      <th></th>\n",
       "    </tr>\n",
       "  </thead>\n",
       "  <tbody>\n",
       "    <tr>\n",
       "      <th>2010-01-04</th>\n",
       "      <td>30.490000</td>\n",
       "      <td>30.572857</td>\n",
       "      <td>30.340000</td>\n",
       "      <td>30.642857</td>\n",
       "      <td>123432400.0</td>\n",
       "      <td>2010-01-04</td>\n",
       "    </tr>\n",
       "    <tr>\n",
       "      <th>2010-01-05</th>\n",
       "      <td>30.657143</td>\n",
       "      <td>30.625713</td>\n",
       "      <td>30.464285</td>\n",
       "      <td>30.798571</td>\n",
       "      <td>150476200.0</td>\n",
       "      <td>2010-01-05</td>\n",
       "    </tr>\n",
       "    <tr>\n",
       "      <th>2010-01-06</th>\n",
       "      <td>30.625713</td>\n",
       "      <td>30.138571</td>\n",
       "      <td>30.107143</td>\n",
       "      <td>30.747143</td>\n",
       "      <td>138040000.0</td>\n",
       "      <td>2010-01-06</td>\n",
       "    </tr>\n",
       "    <tr>\n",
       "      <th>2010-01-07</th>\n",
       "      <td>30.250000</td>\n",
       "      <td>30.082857</td>\n",
       "      <td>29.864286</td>\n",
       "      <td>30.285715</td>\n",
       "      <td>119282800.0</td>\n",
       "      <td>2010-01-07</td>\n",
       "    </tr>\n",
       "    <tr>\n",
       "      <th>2010-01-08</th>\n",
       "      <td>30.042856</td>\n",
       "      <td>30.282858</td>\n",
       "      <td>29.865715</td>\n",
       "      <td>30.285715</td>\n",
       "      <td>111902700.0</td>\n",
       "      <td>2010-01-08</td>\n",
       "    </tr>\n",
       "  </tbody>\n",
       "</table>\n",
       "</div>"
      ],
      "text/plain": [
       "                 open      close        low       high       volume       date\n",
       "date                                                                          \n",
       "2010-01-04  30.490000  30.572857  30.340000  30.642857  123432400.0 2010-01-04\n",
       "2010-01-05  30.657143  30.625713  30.464285  30.798571  150476200.0 2010-01-05\n",
       "2010-01-06  30.625713  30.138571  30.107143  30.747143  138040000.0 2010-01-06\n",
       "2010-01-07  30.250000  30.082857  29.864286  30.285715  119282800.0 2010-01-07\n",
       "2010-01-08  30.042856  30.282858  29.865715  30.285715  111902700.0 2010-01-08"
      ]
     },
     "execution_count": 9,
     "metadata": {},
     "output_type": "execute_result"
    }
   ],
   "source": [
    "data_df.head()"
   ]
  },
  {
   "cell_type": "markdown",
   "metadata": {
    "_uuid": "a2de7ca765456476e28f9ab2b6ccbdd21a2c232e"
   },
   "source": [
    "## Normalization of Close price values"
   ]
  },
  {
   "cell_type": "code",
   "execution_count": 10,
   "metadata": {
    "_uuid": "6c4467ccf683815c8c1c9854e7f9dde7a93c1ff9"
   },
   "outputs": [],
   "source": [
    "min_max_scaler = MinMaxScaler(feature_range=(0, 1))\n",
    "dataset = min_max_scaler.fit_transform(data_df['close'].values.reshape(-1, 1))"
   ]
  },
  {
   "cell_type": "code",
   "execution_count": 11,
   "metadata": {
    "_uuid": "2cdc2d0f0bf9bd849154f6bae2e2affcf7042df2"
   },
   "outputs": [
    {
     "data": {
      "text/plain": [
       "array([[0.02971784],\n",
       "       [0.03021854],\n",
       "       [0.02560389],\n",
       "       [0.02507612],\n",
       "       [0.0269707 ],\n",
       "       [0.02444008],\n",
       "       [0.02120576],\n",
       "       [0.02517085],\n",
       "       [0.02351986],\n",
       "       [0.0187834 ]])"
      ]
     },
     "execution_count": 11,
     "metadata": {},
     "output_type": "execute_result"
    }
   ],
   "source": [
    "dataset[0:10]"
   ]
  },
  {
   "cell_type": "code",
   "execution_count": 12,
   "metadata": {
    "_uuid": "ed19f2e090bc572e88689259268b5c2d6fb4dd77"
   },
   "outputs": [
    {
     "name": "stdout",
     "output_type": "stream",
     "text": [
      "Dataset size 1762\n",
      "Train Size - 1233 \n",
      "Test Size - 529\n"
     ]
    }
   ],
   "source": [
    "print('Dataset size', len(data_df))\n",
    "\n",
    "# split into train and test sets\n",
    "train_size = int(len(dataset) * 0.7)\n",
    "test_size = len(dataset) - train_size\n",
    "train, test = dataset[0:train_size,:], dataset[train_size:len(dataset),:]\n",
    "print('Train Size -', len(train),'\\nTest Size -',len(test))"
   ]
  },
  {
   "cell_type": "markdown",
   "metadata": {
    "_uuid": "880eba47d20b5e86e3289301ec70c3c42f8fbc61"
   },
   "source": [
    "#### Look back date is set as 15 days, which is the number of previous time steps to use as input variables to predict the next time period"
   ]
  },
  {
   "cell_type": "code",
   "execution_count": 13,
   "metadata": {
    "_uuid": "7b6b6088e81a10df71f2cba199833bf8c536ef49"
   },
   "outputs": [],
   "source": [
    "# convert an array of values into a dataset matrix\n",
    "def create_dataset(dataset, look_back):\n",
    "    dataX, dataY = [], []\n",
    "    for i in range(len(dataset)-look_back-1):\n",
    "        a = dataset[i:(i+look_back), 0]\n",
    "        dataX.append(a)\n",
    "        dataY.append(dataset[i + look_back, 0])\n",
    "    return np.array(dataX), np.array(dataY)"
   ]
  },
  {
   "cell_type": "code",
   "execution_count": 14,
   "metadata": {
    "_uuid": "dbbd295863fcd0f9f968e32b2112bc1993be4170"
   },
   "outputs": [],
   "source": [
    "look_back = 15\n",
    "\n",
    "x_train, y_train = create_dataset(train, look_back)\n",
    "x_test, y_test = create_dataset(test, look_back)"
   ]
  },
  {
   "cell_type": "code",
   "execution_count": 15,
   "metadata": {
    "_uuid": "286f91632921a0bd9c22f3c59a63ece054bcf2ee"
   },
   "outputs": [
    {
     "name": "stdout",
     "output_type": "stream",
     "text": [
      "(1217, 15)\n",
      "(1217,)\n",
      "(513, 15)\n",
      "(513,)\n"
     ]
    }
   ],
   "source": [
    "print(x_train.shape)\n",
    "print(y_train.shape)\n",
    "print(x_test.shape)\n",
    "print(y_test.shape)"
   ]
  },
  {
   "cell_type": "markdown",
   "metadata": {
    "_uuid": "19abce0c37dc0a4895726d35dab6bf43b1e51000"
   },
   "source": [
    "#### The LSTM network expects the input data (X) to be provided in the form of: [samples, time steps, features]."
   ]
  },
  {
   "cell_type": "code",
   "execution_count": 16,
   "metadata": {
    "_uuid": "4ad0f313531b89e9493c927437f27366f0ebfa72"
   },
   "outputs": [],
   "source": [
    "x_train = np.reshape(x_train, (x_train.shape[0], x_train.shape[1], 1))\n",
    "x_test = np.reshape(x_test, (x_test.shape[0], x_test.shape[1], 1))"
   ]
  },
  {
   "cell_type": "code",
   "execution_count": 17,
   "metadata": {
    "_uuid": "c1c04ae0f2d7c6d47eceed575723a987856cdbec"
   },
   "outputs": [
    {
     "name": "stdout",
     "output_type": "stream",
     "text": [
      "(1217, 15, 1)\n",
      "(1217,)\n",
      "(513, 15, 1)\n",
      "(513,)\n"
     ]
    }
   ],
   "source": [
    "print(x_train.shape)\n",
    "print(y_train.shape)\n",
    "print(x_test.shape)\n",
    "print(y_test.shape)"
   ]
  },
  {
   "cell_type": "markdown",
   "metadata": {
    "_uuid": "4cdfaa032f4b90bad561ccf68154edac41e9ea38"
   },
   "source": [
    "**LSTM**\n",
    "\n",
    "The Long Short-Term Memory network, or LSTM network, is a recurrent neural network that is trained using Backpropagation through Time and overcomes the vanishing gradient problem.\n",
    "\n",
    "As such, it can be used to create large recurrent networks that in turn can be used to address difficult sequence problems in machine learning and achieve state-of-the-art results.\n",
    "\n",
    "Instead of neurons, LSTM networks have memory blocks that are connected through layers.\n",
    "\n",
    "A block has components that make it smarter than a classical neuron and a memory for recent sequences. A block contains gates that manage the block’s state and output. A block operates upon an input sequence and each gate within a block uses the sigmoid activation units to control whether they are triggered or not, making the change of state and addition of information flowing through the block conditional.\n",
    "\n",
    "There are three types of gates within a unit:\n",
    "\n",
    "* Forget Gate: conditionally decides what information to throw away from the block.\n",
    "* Input Gate: conditionally decides which values from the input to update the memory state.\n",
    "* Output Gate: conditionally decides what to output based on input and the memory of the block.\n",
    "\n",
    "Each unit is like a mini-state machine where the gates of the units have weights that are learned during the training procedure."
   ]
  },
  {
   "cell_type": "markdown",
   "metadata": {
    "_uuid": "9ee83c4cdfa51b58aff9fe28f43e552c1ecda9b0"
   },
   "source": [
    "> The network is trained for 20 epochs and a batch size of 1 is used."
   ]
  },
  {
   "cell_type": "code",
   "execution_count": 18,
   "metadata": {
    "_uuid": "1962317674b834ebd54be16699a08bb9639c7df6"
   },
   "outputs": [
    {
     "name": "stdout",
     "output_type": "stream",
     "text": [
      "Epoch 1/20\n",
      "1217/1217 - 13s - loss: 0.0030\n",
      "Epoch 2/20\n",
      "1217/1217 - 13s - loss: 8.5870e-04\n",
      "Epoch 3/20\n",
      "1217/1217 - 13s - loss: 7.1039e-04\n",
      "Epoch 4/20\n",
      "1217/1217 - 13s - loss: 5.3697e-04\n",
      "Epoch 5/20\n",
      "1217/1217 - 14s - loss: 4.6468e-04\n",
      "Epoch 6/20\n",
      "1217/1217 - 14s - loss: 3.5079e-04\n",
      "Epoch 7/20\n",
      "1217/1217 - 15s - loss: 3.0886e-04\n",
      "Epoch 8/20\n",
      "1217/1217 - 14s - loss: 2.7181e-04\n",
      "Epoch 9/20\n",
      "1217/1217 - 13s - loss: 2.9932e-04\n",
      "Epoch 10/20\n",
      "1217/1217 - 13s - loss: 2.3132e-04\n",
      "Epoch 11/20\n",
      "1217/1217 - 13s - loss: 2.1922e-04\n",
      "Epoch 12/20\n",
      "1217/1217 - 13s - loss: 2.0646e-04\n",
      "Epoch 13/20\n",
      "1217/1217 - 14s - loss: 2.2941e-04\n",
      "Epoch 14/20\n",
      "1217/1217 - 13s - loss: 1.9193e-04\n",
      "Epoch 15/20\n",
      "1217/1217 - 13s - loss: 2.0982e-04\n",
      "Epoch 16/20\n",
      "1217/1217 - 13s - loss: 2.0191e-04\n",
      "Epoch 17/20\n",
      "1217/1217 - 13s - loss: 1.9732e-04\n",
      "Epoch 18/20\n",
      "1217/1217 - 13s - loss: 1.9488e-04\n",
      "Epoch 19/20\n",
      "1217/1217 - 13s - loss: 1.7663e-04\n",
      "Epoch 20/20\n",
      "1217/1217 - 13s - loss: 1.8096e-04\n"
     ]
    },
    {
     "data": {
      "text/plain": [
       "<tensorflow.python.keras.callbacks.History at 0x204417a1df0>"
      ]
     },
     "execution_count": 18,
     "metadata": {},
     "output_type": "execute_result"
    }
   ],
   "source": [
    "# create and fit the LSTM network\n",
    "model = Sequential()\n",
    "model.add(LSTM(20, activation = 'relu', return_sequences = True, input_shape=(look_back, 1)))     \n",
    "model.add(LSTM(20))                                  # output shape = (batch_size,20) - last hidden state shape\n",
    "model.add(Dense(1))\n",
    "model.compile(loss='mean_squared_error', optimizer='adam')\n",
    "model.fit(x_train, y_train, epochs=20, batch_size=1, verbose=2)"
   ]
  },
  {
   "cell_type": "code",
   "execution_count": 19,
   "metadata": {
    "_uuid": "444cd8a5403b8f7375578f217ea899746740cb8a"
   },
   "outputs": [
    {
     "name": "stdout",
     "output_type": "stream",
     "text": [
      "Train Score: 1.85 RMSE\n",
      "Test Score: 3.57 RMSE\n"
     ]
    }
   ],
   "source": [
    "trainPredict = model.predict(x_train)\n",
    "testPredict = model.predict(x_test)\n",
    "# invert predictions\n",
    "trainPredict = min_max_scaler.inverse_transform(trainPredict)\n",
    "trainY = min_max_scaler.inverse_transform([y_train])\n",
    "testPredict = min_max_scaler.inverse_transform(testPredict)\n",
    "testY = min_max_scaler.inverse_transform([y_test])\n",
    "# calculate root mean squared error\n",
    "trainScore = math.sqrt(mean_squared_error(trainY[0], trainPredict[:,0]))\n",
    "print('Train Score: %.2f RMSE' % (trainScore))\n",
    "testScore = math.sqrt(mean_squared_error(testY[0], testPredict[:,0]))\n",
    "print('Test Score: %.2f RMSE' % (testScore))"
   ]
  },
  {
   "cell_type": "code",
   "execution_count": 20,
   "metadata": {
    "_uuid": "9504013c6479db5f1e18ed091eafc1d84454338a"
   },
   "outputs": [
    {
     "data": {
      "image/png": "[encoded data removed]",
      "text/plain": [
       "<Figure size 432x288 with 1 Axes>"
      ]
     },
     "metadata": {
      "needs_background": "light"
     },
     "output_type": "display_data"
    }
   ],
   "source": [
    "# shift train predictions for plotting\n",
    "trainPredictPlot = np.empty_like(dataset)\n",
    "trainPredictPlot[:, :] = np.nan\n",
    "trainPredictPlot[look_back:len(trainPredict)+look_back, :] = trainPredict\n",
    "# shift test predictions for plotting\n",
    "testPredictPlot = np.empty_like(dataset)\n",
    "testPredictPlot[:, :] = np.nan\n",
    "testPredictPlot[len(trainPredict)+(look_back*2)+1:len(dataset)-1, :] = testPredict\n",
    "# plot baseline and predictions\n",
    "plt.plot(min_max_scaler.inverse_transform(dataset), label ='Ground Truth')\n",
    "plt.plot(trainPredictPlot, label ='Prediction on Train data')\n",
    "plt.plot(testPredictPlot, label ='Prediction on Test data')\n",
    "\n",
    "plt.xlabel('Observations (Time)')\n",
    "plt.ylabel('Closing Price')\n",
    "plt.title('Stock Prediction using LSTM')\n",
    "plt.legend()\n",
    "plt.show()"
   ]
  },
  {
   "cell_type": "markdown",
   "metadata": {},
   "source": [
    "### Now, let's try to visualize only test predictions"
   ]
  },
  {
   "cell_type": "code",
   "execution_count": 22,
   "metadata": {},
   "outputs": [
    {
     "data": {
      "image/png": "[encoded data removed]",
      "text/plain": [
       "<Figure size 432x288 with 1 Axes>"
      ]
     },
     "metadata": {
      "needs_background": "light"
     },
     "output_type": "display_data"
    }
   ],
   "source": [
    "plt.plot(min_max_scaler.inverse_transform(test), label ='Ground Truth (Testset)')\n",
    "\n",
    "testPredictPlot = np.empty_like(test)\n",
    "testPredictPlot[:, :] = np.nan\n",
    "testPredictPlot[look_back:len(testPredict)+look_back, :] = testPredict\n",
    "\n",
    "plt.plot(testPredictPlot, label ='Prediction on Test data', color ='g')\n",
    "\n",
    "plt.xlabel('Observations (Time)')\n",
    "plt.ylabel('Closing Price')\n",
    "plt.title('Stock Prediction using LSTM')\n",
    "plt.legend()\n",
    "plt.show()"
   ]
  }
 ],
 "metadata": {
  "kernelspec": {
   "display_name": "Python 3",
   "language": "python",
   "name": "python3"
  },
  "language_info": {
   "codemirror_mode": {
    "name": "ipython",
    "version": 3
   },
   "file_extension": ".py",
   "mimetype": "text/x-python",
   "name": "python",
   "nbconvert_exporter": "python",
   "pygments_lexer": "ipython3",
   "version": "3.8.3"
  }
 },
 "nbformat": 4,
 "nbformat_minor": 1
}
